{
 "cells": [
  {
   "cell_type": "markdown",
   "metadata": {},
   "source": [
    "# Transformação de perspectiva de 4 pontos"
   ]
  },
  {
   "cell_type": "markdown",
   "metadata": {},
   "source": [
    "Importando bibliotecas"
   ]
  },
  {
   "cell_type": "code",
   "execution_count": 1,
   "metadata": {},
   "outputs": [],
   "source": [
    "import numpy as np\n",
    "import cv2"
   ]
  },
  {
   "cell_type": "markdown",
   "metadata": {},
   "source": [
    "1. Função para ordenar os pontos"
   ]
  },
  {
   "cell_type": "code",
   "execution_count": 2,
   "metadata": {},
   "outputs": [],
   "source": [
    "def order_points(pts):\n",
    "    # inicializar a lista de coordenadas que serão ordenadas\n",
    "    # ordem: superior-esquerdo, superior-direito, inferior-direito, inferior-esquerdo\n",
    "    # np.zeros => ((nº linhas, nº colunas), tipo_variavel)\n",
    "    rect = np.zeros((4,2), dtype='float32')\n",
    "    \n",
    "    # o ponto superior esquerdo terá a menor soma, enquanto\n",
    "    # o ponto inferior direito terá a maior soma\n",
    "    s = pts.sum(axis=1) # soma por linha\n",
    "    rect[0] = pts[np.argmin(s)]\n",
    "    rect[2] = pts[np.argmax(s)]\n",
    "    \n",
    "    # calcula a diferença entre os pontos\n",
    "    # o canto superior direito terá uma diferença menor\n",
    "    # o canto inferior esquerdo terá uma diferença maior\n",
    "    diff = np.diff(pts, axis=1)\n",
    "    rect[1] = pts[np.argmin(diff)]\n",
    "    rect[3] = pts[np.argmax(diff)]\n",
    "    \n",
    "    # retorna as coordenadas ordenadas\n",
    "    return rect"
   ]
  },
  {
   "cell_type": "markdown",
   "metadata": {},
   "source": [
    "2. Função de transformação"
   ]
  },
  {
   "cell_type": "code",
   "execution_count": 3,
   "metadata": {},
   "outputs": [],
   "source": [
    "def four_point_tranform(image, pts):\n",
    "    # obtem os pontos ordenados no formato correto\n",
    "    rect = order_points(pts)\n",
    "    (tl, tr, br, bl) = rect\n",
    "    \n",
    "    # calcula a maior largura da imagem com base nos pontos (coordenada X)\n",
    "    # distância entre o br e bl\n",
    "    # distância entre o tr e tl\n",
    "    # calcula a maior distância\n",
    "    widthA = np.sqrt(((br[0] - bl[0]) ** 2) + ((br[1] - bl[1]) ** 2))\n",
    "    widthB = np.sqrt(((tr[0] - tl[0]) ** 2) + ((tr[1] - tl[1]) ** 2))\n",
    "    maxWidth = max(int(widthA), int(widthB))\n",
    "    \n",
    "    # calcula a maior altura da imagem com base nos pontos (coordenada Y)\n",
    "    # distância entre tr e br\n",
    "    # distância entre tl e bl\n",
    "    heightA = np.sqrt(((tr[0] - br[0]) ** 2) + ((tr[1] - br[1]) ** 2))\n",
    "    heightB = np.sqrt(((tl[0] - bl[0]) ** 2) + ((tl[1] - bl[1]) ** 2))\n",
    "    maxHeight = max(int(heightA), int(heightB))\n",
    "    \n",
    "    # agora que temos as dimenções da nova imagem\n",
    "    # construimos os pontos para obter a vista de 'cima' (vista desejada)\n",
    "    # seguindo a ordem dos pontos: tl, tr, br, bl\n",
    "    dst = np.array([\n",
    "        [0, 0],\n",
    "        [maxWidth - 1, 0],\n",
    "        [maxWidth - 1, maxHeight - 1],\n",
    "        [0, maxHeight - 1]], dtype = 'float32')\n",
    "    \n",
    "    # calcula a matriz de transformação de perspectiva\n",
    "    M = cv2.getPerspectiveTransform(rect, dst)\n",
    "    # aplica a matriz de transformação de perspectiva\n",
    "    warped = cv2.warpPerspective(image, M, (maxWidth, maxHeight))\n",
    "    \n",
    "    # retorna a imagem distorcida\n",
    "    return warped"
   ]
  },
  {
   "cell_type": "markdown",
   "metadata": {},
   "source": [
    "3. Utilizando \n",
    "\n",
    "Os pontos de coordenadas foram inseridos manualmente, apenas para aprendizado de como funciona as funções"
   ]
  },
  {
   "cell_type": "markdown",
   "metadata": {},
   "source": [
    "- images/example_01.png --coords \"[(73, 239), (356, 117), (475, 265), (187, 443)]\"\n",
    "- images/example_02.png --coords \"[(101, 185), (393, 151), (479, 323), (187, 441)]\"\n",
    "- images/example_03.png --coords \"[(63, 242), (291, 110), (361, 252), (78, 386)]\""
   ]
  },
  {
   "cell_type": "code",
   "execution_count": 4,
   "metadata": {},
   "outputs": [],
   "source": [
    "# Carregando  localização das imagens e coordenadas\n",
    "image_1 = \"./images/example_01.png\"\n",
    "pts_1 = [(73, 239), (356, 117), (475, 265), (187, 443)]\n",
    "\n",
    "image_2 = \"./images/example_02.png\"\n",
    "pts_2 = [(101, 185), (393, 151), (479, 323), (187, 441)]\n",
    "\n",
    "image_3 = \"./images/example_03.png\"\n",
    "pts_3 = [(63, 242), (291, 110), (361, 252), (78, 386)]"
   ]
  },
  {
   "cell_type": "code",
   "execution_count": 5,
   "metadata": {},
   "outputs": [],
   "source": [
    "# carregando imagem e coordenadas\n",
    "image=cv2.imread(image_1)\n",
    "coords= np.array([(73, 239), (356, 117), (475, 265), (187, 443)])\n",
    "\n",
    "image_2=cv2.imread(image_2)\n",
    "coords_2= np.array([(101, 185), (393, 151), (479, 323), (187, 441)])\n",
    "\n",
    "image_3=cv2.imread(image_3)\n",
    "coords_3= np.array([(63, 242), (291, 110), (361, 252), (78, 386)])\n",
    "\n",
    "# aplicando transformação\n",
    "warped = four_point_tranform(image, coords)\n",
    "warped_2 = four_point_tranform(image_2, coords_2)\n",
    "warped_3 = four_point_tranform(image_3, coords_3)"
   ]
  },
  {
   "cell_type": "code",
   "execution_count": 6,
   "metadata": {},
   "outputs": [
    {
     "data": {
      "text/plain": [
       "48"
      ]
     },
     "execution_count": 6,
     "metadata": {},
     "output_type": "execute_result"
    }
   ],
   "source": [
    "# visualizando resultado\n",
    "cv2.imshow(\"Original\", image)\n",
    "cv2.imshow(\"Warped\", warped)\n",
    "cv2.waitKey(0)"
   ]
  },
  {
   "cell_type": "code",
   "execution_count": 7,
   "metadata": {},
   "outputs": [
    {
     "data": {
      "text/plain": [
       "48"
      ]
     },
     "execution_count": 7,
     "metadata": {},
     "output_type": "execute_result"
    }
   ],
   "source": [
    "# visualizando resultado\n",
    "cv2.imshow(\"Original\", image_2)\n",
    "cv2.imshow(\"Warped\", warped_2)\n",
    "cv2.waitKey(0)"
   ]
  },
  {
   "cell_type": "code",
   "execution_count": null,
   "metadata": {},
   "outputs": [],
   "source": [
    "# visualizando resultado\n",
    "cv2.imshow(\"Original\", image_3)\n",
    "cv2.imshow(\"Warped\", warped_3)\n",
    "cv2.waitKey(0)"
   ]
  }
 ],
 "metadata": {
  "kernelspec": {
   "display_name": "Python 3",
   "language": "python",
   "name": "python3"
  },
  "language_info": {
   "codemirror_mode": {
    "name": "ipython",
    "version": 3
   },
   "file_extension": ".py",
   "mimetype": "text/x-python",
   "name": "python",
   "nbconvert_exporter": "python",
   "pygments_lexer": "ipython3",
   "version": "3.7.4"
  }
 },
 "nbformat": 4,
 "nbformat_minor": 2
}
